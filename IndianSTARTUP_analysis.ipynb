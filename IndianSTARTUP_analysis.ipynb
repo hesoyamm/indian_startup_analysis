{
  "nbformat": 4,
  "nbformat_minor": 0,
  "metadata": {
    "kernelspec": {
      "display_name": "Python 3",
      "language": "python",
      "name": "python3"
    },
    "language_info": {
      "codemirror_mode": {
        "name": "ipython",
        "version": 3
      },
      "file_extension": ".py",
      "mimetype": "text/x-python",
      "name": "python",
      "nbconvert_exporter": "python",
      "pygments_lexer": "ipython3",
      "version": "3.8.3"
    },
    "colab": {
      "name": "IndianSTARTUP_analysis.ipynb",
      "provenance": []
    }
  },
  "cells": [
    {
      "cell_type": "markdown",
      "metadata": {
        "id": "EGhTs4f6ct5k",
        "colab_type": "text"
      },
      "source": [
        " ### analyzing the growth of Indian Startups"
      ]
    },
    {
      "cell_type": "markdown",
      "metadata": {
        "id": "Y_DL8_Bnct5m",
        "colab_type": "text"
      },
      "source": [
        "#### i will try to comment each cell , what i find usefull is revising the older projects when it comes to data science so commenting helps you move things along faster. \n",
        "anyone who reads this , i hope it helps\n",
        "\n",
        "\n",
        "\n",
        "   "
      ]
    },
    {
      "cell_type": "code",
      "metadata": {
        "id": "OL5bivwict5o",
        "colab_type": "code",
        "colab": {}
      },
      "source": [
        "import pandas as pd\n",
        "import numpy as np"
      ],
      "execution_count": null,
      "outputs": []
    },
    {
      "cell_type": "code",
      "metadata": {
        "id": "TaBLfzjUct6C",
        "colab_type": "code",
        "colab": {}
      },
      "source": [
        "import matplotlib.pyplot as plt\n",
        "import seaborn as sns\n",
        "##for data visulatization"
      ],
      "execution_count": null,
      "outputs": []
    },
    {
      "cell_type": "code",
      "metadata": {
        "id": "cFYlMrGGct6J",
        "colab_type": "code",
        "colab": {}
      },
      "source": [
        "##lets select a background style , not important just for representation\n",
        "plt.style.use('fivethirtyeight')\n",
        "plt.rcParams['figure.figsize']=(36,7)"
      ],
      "execution_count": null,
      "outputs": []
    },
    {
      "cell_type": "code",
      "metadata": {
        "id": "0B61CSbdct6P",
        "colab_type": "code",
        "colab": {}
      },
      "source": [
        "#for interactivity\n",
        "import ipywidgets as widgets\n",
        "from ipywidgets import interact\n",
        "from ipywidgets import interact_manual"
      ],
      "execution_count": null,
      "outputs": []
    },
    {
      "cell_type": "markdown",
      "metadata": {
        "id": "Xi4Bbc3Act6V",
        "colab_type": "text"
      },
      "source": [
        "## reading the data"
      ]
    },
    {
      "cell_type": "code",
      "metadata": {
        "id": "SOX5acjEct6W",
        "colab_type": "code",
        "colab": {}
      },
      "source": [
        "data = pd.read_csv('startup_funding.csv')"
      ],
      "execution_count": null,
      "outputs": []
    },
    {
      "cell_type": "code",
      "metadata": {
        "id": "7pG1wBtTct6b",
        "colab_type": "code",
        "colab": {},
        "outputId": "5363749f-6183-477f-c1b2-f77029090518"
      },
      "source": [
        "#changing the names of the  columns inside the data \n",
        "print(data)"
      ],
      "execution_count": null,
      "outputs": [
        {
          "output_type": "stream",
          "text": [
            "      Sr No Date dd/mm/yyyy                  Startup Name  \\\n",
            "0         1      09/01/2020                        BYJU’S   \n",
            "1         2      13/01/2020                        Shuttl   \n",
            "2         3      09/01/2020                     Mamaearth   \n",
            "3         4      02/01/2020  https://www.wealthbucket.in/   \n",
            "4         5      02/01/2020                        Fashor   \n",
            "...     ...             ...                           ...   \n",
            "3039   3040      29/01/2015                    Printvenue   \n",
            "3040   3041      29/01/2015                      Graphene   \n",
            "3041   3042      30/01/2015                Mad Street Den   \n",
            "3042   3043      30/01/2015                     Simplotel   \n",
            "3043   3044      31/01/2015              couponmachine.in   \n",
            "\n",
            "        Industry Vertical                            SubVertical  \\\n",
            "0                  E-Tech                             E-learning   \n",
            "1          Transportation              App based shuttle service   \n",
            "2              E-commerce  Retailer of baby and toddler products   \n",
            "3                 FinTech                      Online Investment   \n",
            "4     Fashion and Apparel            Embroiled Clothes For Women   \n",
            "...                   ...                                    ...   \n",
            "3039                  NaN                                    NaN   \n",
            "3040                  NaN                                    NaN   \n",
            "3041                  NaN                                    NaN   \n",
            "3042                  NaN                                    NaN   \n",
            "3043                  NaN                                    NaN   \n",
            "\n",
            "     City  Location                     Investors Name       InvestmentnType  \\\n",
            "0         Bengaluru            Tiger Global Management  Private Equity Round   \n",
            "1           Gurgaon          Susquehanna Growth Equity              Series C   \n",
            "2         Bengaluru              Sequoia Capital India              Series B   \n",
            "3         New Delhi                     Vinod Khatumal          Pre-series A   \n",
            "4            Mumbai            Sprout Venture Partners            Seed Round   \n",
            "...             ...                                ...                   ...   \n",
            "3039            NaN        Asia Pacific Internet Group        Private Equity   \n",
            "3040            NaN                     KARSEMVEN Fund        Private Equity   \n",
            "3041            NaN     Exfinity Fund, GrowX Ventures.        Private Equity   \n",
            "3042            NaN                         MakeMyTrip        Private Equity   \n",
            "3043            NaN  UK based Group of Angel Investors          Seed Funding   \n",
            "\n",
            "     Amount in USD                            Remarks  \n",
            "0     20,00,00,000                                NaN  \n",
            "1        80,48,394                                NaN  \n",
            "2      1,83,58,860                                NaN  \n",
            "3        30,00,000                                NaN  \n",
            "4        18,00,000                                NaN  \n",
            "...            ...                                ...  \n",
            "3039     45,00,000                                NaN  \n",
            "3040      8,25,000                Govt backed VC Fund  \n",
            "3041     15,00,000                                NaN  \n",
            "3042           NaN  Strategic Funding, Minority stake  \n",
            "3043      1,40,000                                NaN  \n",
            "\n",
            "[3044 rows x 10 columns]\n"
          ],
          "name": "stdout"
        }
      ]
    },
    {
      "cell_type": "code",
      "metadata": {
        "id": "_-Ah58Sxct6i",
        "colab_type": "code",
        "colab": {}
      },
      "source": [
        "data.columns =['Sno','Data','StartupName','Industryvertical','SubVertical','City','InvestorSName','InvestmentType','AmountInUSD','Remarks']"
      ],
      "execution_count": null,
      "outputs": []
    },
    {
      "cell_type": "code",
      "metadata": {
        "id": "Y7uXgkjDct6m",
        "colab_type": "code",
        "colab": {}
      },
      "source": [
        "#lets clean the strings\n",
        "def clean_string(x):\n",
        "    return str(x).replace('\\\\xc2\\\\xa0','').replace('\\\\\\\\xc2\\\\\\\\xa0','')\n",
        "## if you dont understand what happended here go to this url:https://stackoverflow.com/questions/10993612/how-to-remove-xa0-from-string-in-python"
      ],
      "execution_count": null,
      "outputs": []
    },
    {
      "cell_type": "code",
      "metadata": {
        "id": "BcH7P9LPct6q",
        "colab_type": "code",
        "colab": {},
        "outputId": "9a746442-500c-4c97-94a1-2d9bc29ed484"
      },
      "source": [
        "#lets apply the function to clean the data\n",
        "for col in [\n",
        "'StartupName','Industryvertical','SubVertical','City','InvestorSName','InvestmentType','AmountInUSD','Remarks']:\n",
        "    data[col] = data[col].apply(lambda x:clean_string(x))\n",
        "#lambda function is very uselfull for data cleaning purposes so pandas has an function called .apply() in which pandas performs the task for all x . for more infor refer url:https://medium.com/@chaimgluck1/have-messy-text-data-clean-it-with-simple-lambda-functions-645918fcc2fc    \n",
        "\n",
        "#lets check the head of the data\n",
        "data.head()"
      ],
      "execution_count": null,
      "outputs": [
        {
          "output_type": "execute_result",
          "data": {
            "text/html": [
              "<div>\n",
              "<style scoped>\n",
              "    .dataframe tbody tr th:only-of-type {\n",
              "        vertical-align: middle;\n",
              "    }\n",
              "\n",
              "    .dataframe tbody tr th {\n",
              "        vertical-align: top;\n",
              "    }\n",
              "\n",
              "    .dataframe thead th {\n",
              "        text-align: right;\n",
              "    }\n",
              "</style>\n",
              "<table border=\"1\" class=\"dataframe\">\n",
              "  <thead>\n",
              "    <tr style=\"text-align: right;\">\n",
              "      <th></th>\n",
              "      <th>Sno</th>\n",
              "      <th>Data</th>\n",
              "      <th>StartupName</th>\n",
              "      <th>Industryvertical</th>\n",
              "      <th>SubVertical</th>\n",
              "      <th>City</th>\n",
              "      <th>InvestorSName</th>\n",
              "      <th>InvestmentType</th>\n",
              "      <th>AmountInUSD</th>\n",
              "      <th>Remarks</th>\n",
              "    </tr>\n",
              "  </thead>\n",
              "  <tbody>\n",
              "    <tr>\n",
              "      <th>0</th>\n",
              "      <td>1</td>\n",
              "      <td>09/01/2020</td>\n",
              "      <td>BYJU’S</td>\n",
              "      <td>E-Tech</td>\n",
              "      <td>E-learning</td>\n",
              "      <td>Bengaluru</td>\n",
              "      <td>Tiger Global Management</td>\n",
              "      <td>Private Equity Round</td>\n",
              "      <td>20,00,00,000</td>\n",
              "      <td>nan</td>\n",
              "    </tr>\n",
              "    <tr>\n",
              "      <th>1</th>\n",
              "      <td>2</td>\n",
              "      <td>13/01/2020</td>\n",
              "      <td>Shuttl</td>\n",
              "      <td>Transportation</td>\n",
              "      <td>App based shuttle service</td>\n",
              "      <td>Gurgaon</td>\n",
              "      <td>Susquehanna Growth Equity</td>\n",
              "      <td>Series C</td>\n",
              "      <td>80,48,394</td>\n",
              "      <td>nan</td>\n",
              "    </tr>\n",
              "    <tr>\n",
              "      <th>2</th>\n",
              "      <td>3</td>\n",
              "      <td>09/01/2020</td>\n",
              "      <td>Mamaearth</td>\n",
              "      <td>E-commerce</td>\n",
              "      <td>Retailer of baby and toddler products</td>\n",
              "      <td>Bengaluru</td>\n",
              "      <td>Sequoia Capital India</td>\n",
              "      <td>Series B</td>\n",
              "      <td>1,83,58,860</td>\n",
              "      <td>nan</td>\n",
              "    </tr>\n",
              "    <tr>\n",
              "      <th>3</th>\n",
              "      <td>4</td>\n",
              "      <td>02/01/2020</td>\n",
              "      <td>https://www.wealthbucket.in/</td>\n",
              "      <td>FinTech</td>\n",
              "      <td>Online Investment</td>\n",
              "      <td>New Delhi</td>\n",
              "      <td>Vinod Khatumal</td>\n",
              "      <td>Pre-series A</td>\n",
              "      <td>30,00,000</td>\n",
              "      <td>nan</td>\n",
              "    </tr>\n",
              "    <tr>\n",
              "      <th>4</th>\n",
              "      <td>5</td>\n",
              "      <td>02/01/2020</td>\n",
              "      <td>Fashor</td>\n",
              "      <td>Fashion and Apparel</td>\n",
              "      <td>Embroiled Clothes For Women</td>\n",
              "      <td>Mumbai</td>\n",
              "      <td>Sprout Venture Partners</td>\n",
              "      <td>Seed Round</td>\n",
              "      <td>18,00,000</td>\n",
              "      <td>nan</td>\n",
              "    </tr>\n",
              "  </tbody>\n",
              "</table>\n",
              "</div>"
            ],
            "text/plain": [
              "   Sno        Data                   StartupName     Industryvertical  \\\n",
              "0    1  09/01/2020                        BYJU’S               E-Tech   \n",
              "1    2  13/01/2020                        Shuttl       Transportation   \n",
              "2    3  09/01/2020                     Mamaearth           E-commerce   \n",
              "3    4  02/01/2020  https://www.wealthbucket.in/              FinTech   \n",
              "4    5  02/01/2020                        Fashor  Fashion and Apparel   \n",
              "\n",
              "                             SubVertical       City  \\\n",
              "0                             E-learning  Bengaluru   \n",
              "1              App based shuttle service    Gurgaon   \n",
              "2  Retailer of baby and toddler products  Bengaluru   \n",
              "3                      Online Investment  New Delhi   \n",
              "4            Embroiled Clothes For Women     Mumbai   \n",
              "\n",
              "               InvestorSName        InvestmentType   AmountInUSD Remarks  \n",
              "0    Tiger Global Management  Private Equity Round  20,00,00,000     nan  \n",
              "1  Susquehanna Growth Equity              Series C     80,48,394     nan  \n",
              "2      Sequoia Capital India              Series B   1,83,58,860     nan  \n",
              "3             Vinod Khatumal          Pre-series A     30,00,000     nan  \n",
              "4    Sprout Venture Partners            Seed Round     18,00,000     nan  "
            ]
          },
          "metadata": {
            "tags": []
          },
          "execution_count": 9
        }
      ]
    },
    {
      "cell_type": "markdown",
      "metadata": {
        "id": "Tjory0gzct6w",
        "colab_type": "text"
      },
      "source": [
        "### data cleaning "
      ]
    },
    {
      "cell_type": "code",
      "metadata": {
        "id": "JtrXunSqct6x",
        "colab_type": "code",
        "colab": {}
      },
      "source": [
        "import warnings \n",
        "warnings.filterwarnings('ignore') \n",
        "## i dont think i need to expalin this."
      ],
      "execution_count": null,
      "outputs": []
    },
    {
      "cell_type": "code",
      "metadata": {
        "id": "KTQQ-LNZct62",
        "colab_type": "code",
        "colab": {}
      },
      "source": [
        "#lets calculate the total missing values in the data\n",
        "total = data.isnull().sum().sort_values(ascending =False)\n"
      ],
      "execution_count": null,
      "outputs": []
    },
    {
      "cell_type": "code",
      "metadata": {
        "id": "evoOf9d3ct67",
        "colab_type": "code",
        "colab": {}
      },
      "source": [
        "#percentage of missing data \n",
        "percent = ((data.isnull().sum()/data.isnull().count())*100).sort_values(ascending =False)"
      ],
      "execution_count": null,
      "outputs": []
    },
    {
      "cell_type": "code",
      "metadata": {
        "id": "KkkbPajGct7A",
        "colab_type": "code",
        "colab": {}
      },
      "source": [
        "#for representation point of view i will stopre the two values in a dataset called missing_data\n",
        "missing_data = pd.concat([total,percent],axis=1,keys=['Total','Percent %'])"
      ],
      "execution_count": null,
      "outputs": []
    },
    {
      "cell_type": "code",
      "metadata": {
        "id": "0fM7qoW3ct7D",
        "colab_type": "code",
        "colab": {},
        "outputId": "a2a74540-75cb-49e6-936a-5eb37d46d024"
      },
      "source": [
        "#lets check the head of the data\n",
        "missing_data"
      ],
      "execution_count": null,
      "outputs": [
        {
          "output_type": "execute_result",
          "data": {
            "text/html": [
              "<div>\n",
              "<style scoped>\n",
              "    .dataframe tbody tr th:only-of-type {\n",
              "        vertical-align: middle;\n",
              "    }\n",
              "\n",
              "    .dataframe tbody tr th {\n",
              "        vertical-align: top;\n",
              "    }\n",
              "\n",
              "    .dataframe thead th {\n",
              "        text-align: right;\n",
              "    }\n",
              "</style>\n",
              "<table border=\"1\" class=\"dataframe\">\n",
              "  <thead>\n",
              "    <tr style=\"text-align: right;\">\n",
              "      <th></th>\n",
              "      <th>Total</th>\n",
              "      <th>Percent %</th>\n",
              "    </tr>\n",
              "  </thead>\n",
              "  <tbody>\n",
              "    <tr>\n",
              "      <th>Remarks</th>\n",
              "      <td>0</td>\n",
              "      <td>0.0</td>\n",
              "    </tr>\n",
              "    <tr>\n",
              "      <th>AmountInUSD</th>\n",
              "      <td>0</td>\n",
              "      <td>0.0</td>\n",
              "    </tr>\n",
              "    <tr>\n",
              "      <th>InvestmentType</th>\n",
              "      <td>0</td>\n",
              "      <td>0.0</td>\n",
              "    </tr>\n",
              "    <tr>\n",
              "      <th>InvestorSName</th>\n",
              "      <td>0</td>\n",
              "      <td>0.0</td>\n",
              "    </tr>\n",
              "    <tr>\n",
              "      <th>City</th>\n",
              "      <td>0</td>\n",
              "      <td>0.0</td>\n",
              "    </tr>\n",
              "    <tr>\n",
              "      <th>SubVertical</th>\n",
              "      <td>0</td>\n",
              "      <td>0.0</td>\n",
              "    </tr>\n",
              "    <tr>\n",
              "      <th>Industryvertical</th>\n",
              "      <td>0</td>\n",
              "      <td>0.0</td>\n",
              "    </tr>\n",
              "    <tr>\n",
              "      <th>StartupName</th>\n",
              "      <td>0</td>\n",
              "      <td>0.0</td>\n",
              "    </tr>\n",
              "    <tr>\n",
              "      <th>Data</th>\n",
              "      <td>0</td>\n",
              "      <td>0.0</td>\n",
              "    </tr>\n",
              "    <tr>\n",
              "      <th>Sno</th>\n",
              "      <td>0</td>\n",
              "      <td>0.0</td>\n",
              "    </tr>\n",
              "  </tbody>\n",
              "</table>\n",
              "</div>"
            ],
            "text/plain": [
              "                  Total  Percent %\n",
              "Remarks               0        0.0\n",
              "AmountInUSD           0        0.0\n",
              "InvestmentType        0        0.0\n",
              "InvestorSName         0        0.0\n",
              "City                  0        0.0\n",
              "SubVertical           0        0.0\n",
              "Industryvertical      0        0.0\n",
              "StartupName           0        0.0\n",
              "Data                  0        0.0\n",
              "Sno                   0        0.0"
            ]
          },
          "metadata": {
            "tags": []
          },
          "execution_count": 14
        }
      ]
    },
    {
      "cell_type": "code",
      "metadata": {
        "id": "i6kSDQ55ct7J",
        "colab_type": "code",
        "colab": {},
        "outputId": "6316ec8f-3c11-47a9-9fd0-d0fb45d86ecd"
      },
      "source": [
        "#lets check the values in the remark column\n",
        "data['Remarks'].value_counts()"
      ],
      "execution_count": null,
      "outputs": [
        {
          "output_type": "execute_result",
          "data": {
            "text/plain": [
              "nan                                          2625\n",
              "Series A                                      177\n",
              "Series B                                       64\n",
              "Pre-Series A                                   37\n",
              "Series C                                       28\n",
              "                                             ... \n",
              "Series E                                        1\n",
              "Additional investment from parent company       1\n",
              "Pre-Series Bridge                               1\n",
              "pre Series-A                                    1\n",
              "Strategic Investment (25% stake)                1\n",
              "Name: Remarks, Length: 70, dtype: int64"
            ]
          },
          "metadata": {
            "tags": []
          },
          "execution_count": 15
        }
      ]
    },
    {
      "cell_type": "code",
      "metadata": {
        "id": "b7Mb93Y0ct7N",
        "colab_type": "code",
        "colab": {}
      },
      "source": [
        "##AS YOU CAN OBSERVE REMARK HAS LOT OP NAN AND HIGH CORNDINAL VALUES\n",
        "data = data.drop(['Remarks'],axis=1)\n"
      ],
      "execution_count": null,
      "outputs": []
    },
    {
      "cell_type": "code",
      "metadata": {
        "id": "8icP9KGRct7R",
        "colab_type": "code",
        "colab": {},
        "outputId": "b068cf39-850f-4b6e-8987-3584433f7bde"
      },
      "source": [
        "data.columns"
      ],
      "execution_count": null,
      "outputs": [
        {
          "output_type": "execute_result",
          "data": {
            "text/plain": [
              "Index(['Sno', 'Data', 'StartupName', 'Industryvertical', 'SubVertical', 'City',\n",
              "       'InvestorSName', 'InvestmentType', 'AmountInUSD'],\n",
              "      dtype='object')"
            ]
          },
          "metadata": {
            "tags": []
          },
          "execution_count": 17
        }
      ]
    },
    {
      "cell_type": "code",
      "metadata": {
        "id": "VE8LN77Gct7V",
        "colab_type": "code",
        "colab": {},
        "outputId": "d97f163b-8d43-4dd5-8379-4617830871e3"
      },
      "source": [
        "print(data['AmountInUSD'])"
      ],
      "execution_count": null,
      "outputs": [
        {
          "output_type": "stream",
          "text": [
            "0       20,00,00,000\n",
            "1          80,48,394\n",
            "2        1,83,58,860\n",
            "3          30,00,000\n",
            "4          18,00,000\n",
            "            ...     \n",
            "3039       45,00,000\n",
            "3040        8,25,000\n",
            "3041       15,00,000\n",
            "3042             nan\n",
            "3043        1,40,000\n",
            "Name: AmountInUSD, Length: 3044, dtype: object\n"
          ],
          "name": "stdout"
        }
      ]
    },
    {
      "cell_type": "code",
      "metadata": {
        "id": "TiqUvUOjct7Z",
        "colab_type": "code",
        "colab": {}
      },
      "source": [
        "### now this is little bit tricky u need to observe how the amount value is stored in the columnd AmountinUsd\n",
        "def clean_amount(x):\n",
        "    x = ''.join([c for c in str(x) if c in ['0','1','2','3','4','5','6','7','8','9']])\n",
        "    #we are replacing each anomaly with empty string \"\"\n",
        "    x=str(x).replace(\",\",\"\").replace(\"+\",\"\")\n",
        "    x=str(x).lower().replace(\"ubdisclosed\",\"\")\n",
        "    x=str(x).lower().replace(\"n/a\",\"\")\n",
        "    if x == '':\n",
        "        x = '-9'\n",
        "    return x\n",
        "##now the -999 is to label that a startup has not got any funding\n"
      ],
      "execution_count": null,
      "outputs": []
    },
    {
      "cell_type": "code",
      "metadata": {
        "id": "dE0e1vAlct7b",
        "colab_type": "code",
        "colab": {},
        "outputId": "8de85858-8277-4fe7-ff2a-b5607bc16cb5"
      },
      "source": [
        "#lets apply the function on the column\n",
        "data[\"AmountInUSD\"] = data[\"AmountInUSD\"].apply(lambda x:float(clean_amount(x)))\n",
        "print(data['AmountInUSD'])\n",
        "\n",
        "\n",
        "\n"
      ],
      "execution_count": null,
      "outputs": [
        {
          "output_type": "stream",
          "text": [
            "0       200000000.0\n",
            "1         8048394.0\n",
            "2        18358860.0\n",
            "3         3000000.0\n",
            "4         1800000.0\n",
            "           ...     \n",
            "3039      4500000.0\n",
            "3040       825000.0\n",
            "3041      1500000.0\n",
            "3042           -9.0\n",
            "3043       140000.0\n",
            "Name: AmountInUSD, Length: 3044, dtype: float64\n"
          ],
          "name": "stdout"
        }
      ]
    },
    {
      "cell_type": "markdown",
      "metadata": {
        "id": "vMCJIiKWct7f",
        "colab_type": "text"
      },
      "source": [
        "## WORD OF ADVICE\n",
        "*if you dont understand the last two cells you need to read up on DATA CLEANING\n",
        "## some say Data scientist spend 70 to 80% of there time cleaning data \n",
        "so here are some resources to help you out \n",
        "### for learning\n",
        "https://realpython.com/python-data-cleaning-numpy-pandas/\n",
        "### for practising \n",
        "https://analyticsindiamag.com/10-datasets-for-data-cleaning-practice-for-beginners/\n"
      ]
    },
    {
      "cell_type": "code",
      "metadata": {
        "id": "SenHgSPzct7g",
        "colab_type": "code",
        "colab": {},
        "outputId": "30a7cb2f-80ef-48d9-af28-fc7b4c12ba3f"
      },
      "source": [
        "#lets check the head of the column after cleaning it\n",
        "plt.rcParams['figure.figsize'] = (15,3)\n",
        "data['AmountInUSD'].plot(kind='line',color ='black')\n",
        "plt.title('Distribution of Amount',fontsize =15)\n",
        "plt.show()"
      ],
      "execution_count": null,
      "outputs": [
        {
          "output_type": "display_data",
          "data": {
            "image/png": "[encoded data removed]",
            "text/plain": [
              "<Figure size 1080x216 with 1 Axes>"
            ]
          },
          "metadata": {
            "tags": []
          }
        }
      ]
    },
    {
      "cell_type": "markdown",
      "metadata": {
        "id": "BpsVixx9ct7n",
        "colab_type": "text"
      },
      "source": [
        "## cleaning the dates\n",
        "---this is hard labour simply put\n"
      ]
    },
    {
      "cell_type": "code",
      "metadata": {
        "jupyter": {
          "outputs_hidden": true
        },
        "id": "TkPontTuct7n",
        "colab_type": "code",
        "colab": {},
        "outputId": "aa51a65b-a762-4b95-b3d6-2750702391bd"
      },
      "source": [
        "print(data['Data'].head())"
      ],
      "execution_count": null,
      "outputs": [
        {
          "output_type": "stream",
          "text": [
            "0    09/01/2020\n",
            "1    13/01/2020\n",
            "2    09/01/2020\n",
            "3    02/01/2020\n",
            "4    02/01/2020\n",
            "Name: Data, dtype: object\n"
          ],
          "name": "stdout"
        }
      ]
    },
    {
      "cell_type": "code",
      "metadata": {
        "id": "ntbaQ0g9ct7r",
        "colab_type": "code",
        "colab": {},
        "outputId": "7e153cbd-5ff9-4744-99c5-c1b7205e9bf9"
      },
      "source": [
        "data['Data'].dtype\n",
        "## note \n",
        "## When you see dtype('O') inside dataframe this means Pandas string."
      ],
      "execution_count": null,
      "outputs": [
        {
          "output_type": "execute_result",
          "data": {
            "text/plain": [
              "dtype('O')"
            ]
          },
          "metadata": {
            "tags": []
          },
          "execution_count": 23
        }
      ]
    },
    {
      "cell_type": "code",
      "metadata": {
        "id": "JYbPpn7mct7t",
        "colab_type": "code",
        "colab": {}
      },
      "source": [
        "data['Data'][data['Data'] =='12/05.2015']='12/05/2015'\n",
        "data['Data'][data['Data'] == '13/04.2015']='13/04/2015'\n",
        "data['Data'][data['Data'] == '15/01.2015'] ='15/01/2015'\n",
        "data['Data'][data['Data'] == '22/01//2015'] ='22/01/2015'\n",
        "data['Data'][data['Data'] == '05/072018']='05/07/2018'\n",
        "data['Data'][data['Data'] == '01/07/015'] ='01/07/2015'\n",
        "data['Data'][data['Data'] == '\\\\\\\\xc2\\\\\\\\xa010/7/2015'] ='10/07/2015'\n",
        "###how did i know which one of them is not right , refer the next code cell if something is not formated correctly it will give the error below \n"
      ],
      "execution_count": null,
      "outputs": []
    },
    {
      "cell_type": "markdown",
      "metadata": {
        "id": "eJ5BiVRlct7x",
        "colab_type": "text"
      },
      "source": [
        "![image.png](attachment:48796b1d-f040-4922-a373-ea0968f3be0e.png)"
      ]
    },
    {
      "cell_type": "markdown",
      "metadata": {
        "id": "Ayr48MSOct7y",
        "colab_type": "text"
      },
      "source": [
        "# querying the data using visualization\n",
        "\""
      ]
    },
    {
      "cell_type": "markdown",
      "metadata": {
        "id": "Hc5PjdH_ct7y",
        "colab_type": "text"
      },
      "source": [
        "### how does the funding ecosystem changes with respect to Time?"
      ]
    },
    {
      "cell_type": "code",
      "metadata": {
        "id": "W_7BHq5Fct7z",
        "colab_type": "code",
        "colab": {},
        "outputId": "b0b3ca9a-58fc-4849-ad39-0aaa5d0fd411"
      },
      "source": [
        "#converting them into a Datetime object\n",
        "data['yearmonth'] = (pd.to_datetime(data['Data'],\n",
        "                                   format=\"%d/%m/%Y\").dt.year*100)+(pd.to_datetime(data['Data'],format = \"%d/%m/%Y\").dt.month)\n",
        "print(data['yearmonth'])\n"
      ],
      "execution_count": null,
      "outputs": [
        {
          "output_type": "stream",
          "text": [
            "0       202001\n",
            "1       202001\n",
            "2       202001\n",
            "3       202001\n",
            "4       202001\n",
            "         ...  \n",
            "3039    201501\n",
            "3040    201501\n",
            "3041    201501\n",
            "3042    201501\n",
            "3043    201501\n",
            "Name: yearmonth, Length: 3044, dtype: int64\n"
          ],
          "name": "stdout"
        }
      ]
    },
    {
      "cell_type": "markdown",
      "metadata": {
        "id": "FlMnRD9dct74",
        "colab_type": "text"
      },
      "source": [
        "#### how did i know how to use the above method ?\n",
        "refer:https://www.kaggle.com/rtatman/data-cleaning-challenge-parsing-dates"
      ]
    },
    {
      "cell_type": "code",
      "metadata": {
        "id": "5ef9S_gPct74",
        "colab_type": "code",
        "colab": {}
      },
      "source": [
        "temp=data['yearmonth'].value_counts().sort_values(ascending =False).head(10)"
      ],
      "execution_count": null,
      "outputs": []
    },
    {
      "cell_type": "code",
      "metadata": {
        "id": "QqBgLG9Act78",
        "colab_type": "code",
        "colab": {},
        "outputId": "52ef6e2a-f748-4862-a36d-b25d9de129f1"
      },
      "source": [
        "print(\"No. of funding per month in decreasing order (TOp 10)\\n\",temp)"
      ],
      "execution_count": null,
      "outputs": [
        {
          "output_type": "stream",
          "text": [
            "No. of funding per month in decreasing order (TOp 10)\n",
            " 201601    104\n",
            "201602    100\n",
            "201508     98\n",
            "201507     98\n",
            "201606     98\n",
            "201510     93\n",
            "201511     92\n",
            "201512     89\n",
            "201509     88\n",
            "201608     87\n",
            "Name: yearmonth, dtype: int64\n"
          ],
          "name": "stdout"
        }
      ]
    },
    {
      "cell_type": "code",
      "metadata": {
        "id": "7rJ9x2Kgct7_",
        "colab_type": "code",
        "colab": {}
      },
      "source": [
        "year_month = data['yearmonth'].value_counts()"
      ],
      "execution_count": null,
      "outputs": []
    },
    {
      "cell_type": "code",
      "metadata": {
        "id": "hfP-7wEkct8L",
        "colab_type": "code",
        "colab": {},
        "outputId": "61ed9236-97e2-4d8e-c77c-9c215b6153cc"
      },
      "source": [
        "#lets plot the data\n",
        "plt.rcParams['figure.figsize'] = (15,7)\n",
        "sns.barplot(year_month.index,year_month.values,palette= 'copper')\n",
        "plt.xticks(rotation =90)\n",
        "plt.xlabel('year-month of transaction',fontsize=12)\n",
        "plt.ylabel('No. of funding made',fontsize=12)\n",
        "plt.title('year-month Distribution',fontsize=16)\n",
        "plt.show()"
      ],
      "execution_count": null,
      "outputs": [
        {
          "output_type": "display_data",
          "data": {
            "image/png": "[encoded data removed]",
            "text/plain": [
              "<Figure size 1080x504 with 1 Axes>"
            ]
          },
          "metadata": {
            "tags": []
          }
        }
      ]
    },
    {
      "cell_type": "markdown",
      "metadata": {
        "id": "A_yzBOY7ct8O",
        "colab_type": "text"
      },
      "source": [
        "### analyse the above graph\n",
        "-one the major thing aspiring data scientist ignore is anaylsis part. They are all into understadnign the code which is fine and well but its not what should be the outcome , your outcome should be to learn from the data , that why industry pay so much amount to data visualizer engineers(i mean crazy money).\n",
        "\n",
        "\n",
        "** in 2015-16 investments were on high rise and since then the funding has only decreased.(that sucks)"
      ]
    },
    {
      "cell_type": "code",
      "metadata": {
        "id": "I2mxxB9fct8P",
        "colab_type": "code",
        "colab": {},
        "outputId": "c78ac837-8827-421d-fb5b-7be38f3aa851"
      },
      "source": [
        "#lets check the maximum funding of a startup\n",
        "print(\"maximum funding to a startup is :\",data['AmountInUSD'].dropna().sort_values().max())"
      ],
      "execution_count": null,
      "outputs": [
        {
          "output_type": "stream",
          "text": [
            "maximum funding to a startup is : 3900000000.0\n"
          ],
          "name": "stdout"
        }
      ]
    },
    {
      "cell_type": "code",
      "metadata": {
        "id": "M3kk6-4Dct8S",
        "colab_type": "code",
        "colab": {},
        "outputId": "f9078851-68d6-4f9d-9c6d-9c5f5dbb99bd"
      },
      "source": [
        "#lets check the startips with more than 50crore+ funding\n",
        "@interact\n",
        "def check(column = 'AmountInUSD', x= 50000):#50 crore funding of startups\n",
        "    return data[data[column] > x].sort_values(by = 'AmountInUSD',ascending =False)"
      ],
      "execution_count": null,
      "outputs": [
        {
          "output_type": "display_data",
          "data": {
            "application/vnd.jupyter.widget-view+json": {
              "model_id": "b8210cfc1d284143a870e80d4b246ca3",
              "version_major": 2,
              "version_minor": 0
            },
            "text/plain": [
              "interactive(children=(Text(value='AmountInUSD', description='column'), IntSlider(value=50000, description='x',…"
            ]
          },
          "metadata": {
            "tags": []
          }
        }
      ]
    },
    {
      "cell_type": "code",
      "metadata": {
        "id": "ALzTXduqct8U",
        "colab_type": "code",
        "colab": {},
        "outputId": "968f8c8b-cf6b-44a7-ec76-b09c9097ea16"
      },
      "source": [
        "# lets check out different ventures of PATYM\n",
        "data[data.StartupName=='Paytm']"
      ],
      "execution_count": null,
      "outputs": [
        {
          "output_type": "execute_result",
          "data": {
            "text/html": [
              "<div>\n",
              "<style scoped>\n",
              "    .dataframe tbody tr th:only-of-type {\n",
              "        vertical-align: middle;\n",
              "    }\n",
              "\n",
              "    .dataframe tbody tr th {\n",
              "        vertical-align: top;\n",
              "    }\n",
              "\n",
              "    .dataframe thead th {\n",
              "        text-align: right;\n",
              "    }\n",
              "</style>\n",
              "<table border=\"1\" class=\"dataframe\">\n",
              "  <thead>\n",
              "    <tr style=\"text-align: right;\">\n",
              "      <th></th>\n",
              "      <th>Sno</th>\n",
              "      <th>Data</th>\n",
              "      <th>StartupName</th>\n",
              "      <th>Industryvertical</th>\n",
              "      <th>SubVertical</th>\n",
              "      <th>City</th>\n",
              "      <th>InvestorSName</th>\n",
              "      <th>InvestmentType</th>\n",
              "      <th>AmountInUSD</th>\n",
              "      <th>yearmonth</th>\n",
              "    </tr>\n",
              "  </thead>\n",
              "  <tbody>\n",
              "    <tr>\n",
              "      <th>31</th>\n",
              "      <td>32</td>\n",
              "      <td>25/11/2019</td>\n",
              "      <td>Paytm</td>\n",
              "      <td>FinTech</td>\n",
              "      <td>Mobile Wallet</td>\n",
              "      <td>Noida</td>\n",
              "      <td>Vijay Shekhar Sharma</td>\n",
              "      <td>Funding Round</td>\n",
              "      <td>1.000000e+09</td>\n",
              "      <td>201911</td>\n",
              "    </tr>\n",
              "    <tr>\n",
              "      <th>251</th>\n",
              "      <td>252</td>\n",
              "      <td>26/06/2018</td>\n",
              "      <td>Paytm</td>\n",
              "      <td>Technology</td>\n",
              "      <td>Digital Payment Platform</td>\n",
              "      <td>Noida</td>\n",
              "      <td>One 97 Communications</td>\n",
              "      <td>Private Equity</td>\n",
              "      <td>8.950000e+06</td>\n",
              "      <td>201806</td>\n",
              "    </tr>\n",
              "    <tr>\n",
              "      <th>830</th>\n",
              "      <td>831</td>\n",
              "      <td>18/05/2017</td>\n",
              "      <td>Paytm</td>\n",
              "      <td>ECommerce</td>\n",
              "      <td>Mobile Wallet &amp; ECommerce platform</td>\n",
              "      <td>Bangalore</td>\n",
              "      <td>SoftBank Group</td>\n",
              "      <td>Private Equity</td>\n",
              "      <td>1.400000e+09</td>\n",
              "      <td>201705</td>\n",
              "    </tr>\n",
              "    <tr>\n",
              "      <th>1493</th>\n",
              "      <td>1494</td>\n",
              "      <td>30/08/2016</td>\n",
              "      <td>Paytm</td>\n",
              "      <td>eCommerce</td>\n",
              "      <td>Mobile Wallet &amp; ECommerce platform</td>\n",
              "      <td>Bangalore</td>\n",
              "      <td>MediaTek Inc.</td>\n",
              "      <td>Private Equity</td>\n",
              "      <td>6.000000e+07</td>\n",
              "      <td>201608</td>\n",
              "    </tr>\n",
              "    <tr>\n",
              "      <th>2459</th>\n",
              "      <td>2460</td>\n",
              "      <td>29/09/2015</td>\n",
              "      <td>Paytm</td>\n",
              "      <td>E-Commerce &amp; M-Commerce platform</td>\n",
              "      <td>nan</td>\n",
              "      <td>New Delhi</td>\n",
              "      <td>Alibaba Group, Ant Financial</td>\n",
              "      <td>Private Equity</td>\n",
              "      <td>6.800000e+08</td>\n",
              "      <td>201509</td>\n",
              "    </tr>\n",
              "    <tr>\n",
              "      <th>2890</th>\n",
              "      <td>2891</td>\n",
              "      <td>13/03/2015</td>\n",
              "      <td>Paytm</td>\n",
              "      <td>nan</td>\n",
              "      <td>nan</td>\n",
              "      <td>nan</td>\n",
              "      <td>Ratan Tata</td>\n",
              "      <td>Private Equity</td>\n",
              "      <td>-9.000000e+00</td>\n",
              "      <td>201503</td>\n",
              "    </tr>\n",
              "    <tr>\n",
              "      <th>2948</th>\n",
              "      <td>2949</td>\n",
              "      <td>05/02/2015</td>\n",
              "      <td>Paytm</td>\n",
              "      <td>nan</td>\n",
              "      <td>nan</td>\n",
              "      <td>nan</td>\n",
              "      <td>Ant Financial Services (Alipay)</td>\n",
              "      <td>Private Equity</td>\n",
              "      <td>-9.000000e+00</td>\n",
              "      <td>201502</td>\n",
              "    </tr>\n",
              "  </tbody>\n",
              "</table>\n",
              "</div>"
            ],
            "text/plain": [
              "       Sno        Data StartupName                  Industryvertical  \\\n",
              "31      32  25/11/2019       Paytm                           FinTech   \n",
              "251    252  26/06/2018       Paytm                        Technology   \n",
              "830    831  18/05/2017       Paytm                         ECommerce   \n",
              "1493  1494  30/08/2016       Paytm                         eCommerce   \n",
              "2459  2460  29/09/2015       Paytm  E-Commerce & M-Commerce platform   \n",
              "2890  2891  13/03/2015       Paytm                               nan   \n",
              "2948  2949  05/02/2015       Paytm                               nan   \n",
              "\n",
              "                             SubVertical       City  \\\n",
              "31                         Mobile Wallet      Noida   \n",
              "251             Digital Payment Platform      Noida   \n",
              "830   Mobile Wallet & ECommerce platform  Bangalore   \n",
              "1493  Mobile Wallet & ECommerce platform  Bangalore   \n",
              "2459                                 nan  New Delhi   \n",
              "2890                                 nan        nan   \n",
              "2948                                 nan        nan   \n",
              "\n",
              "                        InvestorSName  InvestmentType   AmountInUSD  yearmonth  \n",
              "31               Vijay Shekhar Sharma   Funding Round  1.000000e+09     201911  \n",
              "251             One 97 Communications  Private Equity  8.950000e+06     201806  \n",
              "830                    SoftBank Group  Private Equity  1.400000e+09     201705  \n",
              "1493                    MediaTek Inc.  Private Equity  6.000000e+07     201608  \n",
              "2459     Alibaba Group, Ant Financial  Private Equity  6.800000e+08     201509  \n",
              "2890                       Ratan Tata  Private Equity -9.000000e+00     201503  \n",
              "2948  Ant Financial Services (Alipay)  Private Equity -9.000000e+00     201502  "
            ]
          },
          "metadata": {
            "tags": []
          },
          "execution_count": 32
        }
      ]
    },
    {
      "cell_type": "code",
      "metadata": {
        "id": "DfQ3XUU-ct8X",
        "colab_type": "code",
        "colab": {},
        "outputId": "2d0dba4f-9cab-42f4-c6d6-9e24b619f6c3"
      },
      "source": [
        "#lets check the minimum funding in a startup\n",
        "print('Minimum funding to a Startup is :',data['AmountInUSD'].dropna().sort_values().min())"
      ],
      "execution_count": null,
      "outputs": [
        {
          "output_type": "stream",
          "text": [
            "Minimum funding to a Startup is : -9.0\n"
          ],
          "name": "stdout"
        }
      ]
    },
    {
      "cell_type": "code",
      "metadata": {
        "id": "2KVOnkqyct8e",
        "colab_type": "code",
        "colab": {},
        "outputId": "e4da8351-b151-4117-fd2b-8b47082d8c13"
      },
      "source": [
        "#lets check the startups with least funding \n",
        "data[['AmountInUSD','StartupName']].sort_values(by= 'AmountInUSD',ascending=True).head(5)"
      ],
      "execution_count": null,
      "outputs": [
        {
          "output_type": "execute_result",
          "data": {
            "text/html": [
              "<div>\n",
              "<style scoped>\n",
              "    .dataframe tbody tr th:only-of-type {\n",
              "        vertical-align: middle;\n",
              "    }\n",
              "\n",
              "    .dataframe tbody tr th {\n",
              "        vertical-align: top;\n",
              "    }\n",
              "\n",
              "    .dataframe thead th {\n",
              "        text-align: right;\n",
              "    }\n",
              "</style>\n",
              "<table border=\"1\" class=\"dataframe\">\n",
              "  <thead>\n",
              "    <tr style=\"text-align: right;\">\n",
              "      <th></th>\n",
              "      <th>AmountInUSD</th>\n",
              "      <th>StartupName</th>\n",
              "    </tr>\n",
              "  </thead>\n",
              "  <tbody>\n",
              "    <tr>\n",
              "      <th>2125</th>\n",
              "      <td>-9.0</td>\n",
              "      <td>Splitkart</td>\n",
              "    </tr>\n",
              "    <tr>\n",
              "      <th>1464</th>\n",
              "      <td>-9.0</td>\n",
              "      <td>TAC Security</td>\n",
              "    </tr>\n",
              "    <tr>\n",
              "      <th>708</th>\n",
              "      <td>-9.0</td>\n",
              "      <td>FableStreet</td>\n",
              "    </tr>\n",
              "    <tr>\n",
              "      <th>709</th>\n",
              "      <td>-9.0</td>\n",
              "      <td>Monsoon Fintech</td>\n",
              "    </tr>\n",
              "    <tr>\n",
              "      <th>710</th>\n",
              "      <td>-9.0</td>\n",
              "      <td>MonkeyBox</td>\n",
              "    </tr>\n",
              "  </tbody>\n",
              "</table>\n",
              "</div>"
            ],
            "text/plain": [
              "      AmountInUSD      StartupName\n",
              "2125         -9.0        Splitkart\n",
              "1464         -9.0     TAC Security\n",
              "708          -9.0      FableStreet\n",
              "709          -9.0  Monsoon Fintech\n",
              "710          -9.0        MonkeyBox"
            ]
          },
          "metadata": {
            "tags": []
          },
          "execution_count": 34
        }
      ]
    },
    {
      "cell_type": "markdown",
      "metadata": {
        "id": "RxZrtF7pct8h",
        "colab_type": "text"
      },
      "source": [
        "### analysis time\n",
        "\n",
        "--- making the startups getting zero funding as a constant helped out sorting least funded startups\n",
        "\n",
        "\n",
        "---in cell above observe different venture capital investments for paytm over the years"
      ]
    },
    {
      "cell_type": "code",
      "metadata": {
        "id": "_HEcIpOoct8i",
        "colab_type": "code",
        "colab": {},
        "outputId": "0463d868-a72e-4b45-d00f-ff4166d389a5"
      },
      "source": [
        "data[data[\"AmountInUSD\"]==99900.0].shape"
      ],
      "execution_count": null,
      "outputs": [
        {
          "output_type": "execute_result",
          "data": {
            "text/plain": [
              "(0, 10)"
            ]
          },
          "metadata": {
            "tags": []
          },
          "execution_count": 35
        }
      ]
    },
    {
      "cell_type": "code",
      "metadata": {
        "id": "sumSkt5ect8l",
        "colab_type": "code",
        "colab": {},
        "outputId": "efd83512-5aa7-428f-f2b2-3682cad64339"
      },
      "source": [
        "#average funding\n",
        "print(\"ON average Indian startup got funding of: \",data['AmountInUSD'].dropna().sort_values().mean())"
      ],
      "execution_count": null,
      "outputs": [
        {
          "output_type": "stream",
          "text": [
            "ON average Indian startup got funding of:  13270374.059461236\n"
          ],
          "name": "stdout"
        }
      ]
    },
    {
      "cell_type": "code",
      "metadata": {
        "id": "AUdLI9fRct8n",
        "colab_type": "code",
        "colab": {},
        "outputId": "9782ada1-6f75-42b1-998f-d1f852c133d8"
      },
      "source": [
        "#lets check the no. of funding each startups got \n",
        "#remeber i told you representation is everything when it comes to data analysis, you are showing to someone for them to believe in your conclusion\n",
        "#make it trendy \n",
        "print(\"total startups funded:\" , len(data[\"StartupName\"].unique()))\n"
      ],
      "execution_count": null,
      "outputs": [
        {
          "output_type": "stream",
          "text": [
            "total startups funded: 2457\n"
          ],
          "name": "stdout"
        }
      ]
    },
    {
      "cell_type": "code",
      "metadata": {
        "id": "QprDbBX8ct8q",
        "colab_type": "code",
        "colab": {},
        "outputId": "dbc8d59c-2737-49e0-d992-75d17515859b"
      },
      "source": [
        "print(data['StartupName'].value_counts().head(20))\n",
        "\n",
        "##initalizing the variable for splitting purpose.\n",
        "startupname= data['StartupName'].value_counts().head(20)"
      ],
      "execution_count": null,
      "outputs": [
        {
          "output_type": "stream",
          "text": [
            "Ola Cabs         8\n",
            "Swiggy           8\n",
            "Paytm            7\n",
            "UrbanClap        6\n",
            "Nykaa            6\n",
            "Meesho           6\n",
            "NoBroker         6\n",
            "Medinfi          6\n",
            "Jugnoo           5\n",
            "Capital Float    5\n",
            "Moglix           5\n",
            "Flipkart         5\n",
            "Uniphore         5\n",
            "Grofers          5\n",
            "Toppr            5\n",
            "Indus OS         4\n",
            "Fynd             4\n",
            "Aye Finance      4\n",
            "Udaan            4\n",
            "TinyStep         4\n",
            "Name: StartupName, dtype: int64\n"
          ],
          "name": "stdout"
        }
      ]
    },
    {
      "cell_type": "code",
      "metadata": {
        "id": "Iwls7bC8ct8r",
        "colab_type": "code",
        "colab": {},
        "outputId": "34609f81-89df-4839-dc55-db056268b838"
      },
      "source": [
        "##if you didn't understand what happende in the above code refer this:\n",
        "y=startupname.index\n",
        "print(y)\n",
        "x=startupname.values\n",
        "print(x)"
      ],
      "execution_count": null,
      "outputs": [
        {
          "output_type": "stream",
          "text": [
            "Index(['Ola Cabs', 'Swiggy', 'Paytm', 'UrbanClap', 'Nykaa', 'Meesho',\n",
            "       'NoBroker', 'Medinfi', 'Jugnoo', 'Capital Float', 'Moglix', 'Flipkart',\n",
            "       'Uniphore', 'Grofers', 'Toppr', 'Indus OS', 'Fynd', 'Aye Finance',\n",
            "       'Udaan', 'TinyStep'],\n",
            "      dtype='object')\n",
            "[8 8 7 6 6 6 6 6 5 5 5 5 5 5 5 4 4 4 4 4]\n"
          ],
          "name": "stdout"
        }
      ]
    },
    {
      "cell_type": "markdown",
      "metadata": {
        "id": "W1e9vM_Oct8t",
        "colab_type": "text"
      },
      "source": [
        "#### main reason people use data visualization is it removes the mundane out of the equation , the above cell and the below show the same thing but in a different manner.\n",
        "\n",
        "--swiggy has been funded 8 times , paytm 7 and so on..\n"
      ]
    },
    {
      "cell_type": "code",
      "metadata": {
        "id": "8ofXP-pJct8t",
        "colab_type": "code",
        "colab": {},
        "outputId": "9d567985-c914-4c77-fe60-cdb7d7760f1a"
      },
      "source": [
        "#lets plot the data\n",
        "plt.rcParams['figure.figsize'] = (12,15)\n",
        "sns.barplot(y=startupname.index,x=startupname.values,alpha =0.9,palette='Dark2')\n",
        "#When using seaborn barplot I can specify an alpha for which it makes the bars semi-translucent\n",
        "\n",
        "plt.xticks(rotation = 'vertical')\n",
        "plt.xlabel('Startup name',fontsize=12)\n",
        "plt.ylabel('Number of funding made',fontsize=12)\n",
        "plt.title('Number of funding Startups have ',fontsize=15)\n",
        "plt.show()\n"
      ],
      "execution_count": null,
      "outputs": [
        {
          "output_type": "display_data",
          "data": {
            "image/png": "[encoded data removed]",
            "text/plain": [
              "<Figure size 864x1080 with 1 Axes>"
            ]
          },
          "metadata": {
            "tags": []
          }
        }
      ]
    },
    {
      "cell_type": "markdown",
      "metadata": {
        "id": "Ovj5q7a6ct8w",
        "colab_type": "text"
      },
      "source": [
        "### seaborn\n",
        "\n",
        "--right now i am doing all my visualization through seaborn but there are many more packages but this is simplest to use.\n",
        "\n",
        "\n",
        "--if you dont understand the code for sns(seaborn) refer this :https://s3.amazonaws.com/assets.datacamp.com/blog_assets/Python_Seaborn_Cheat_Sh\\eet.pdf"
      ]
    },
    {
      "cell_type": "markdown",
      "metadata": {
        "id": "eHs2DwtYct8x",
        "colab_type": "text"
      },
      "source": [
        "### what kind of industries are more prefered for startups?"
      ]
    },
    {
      "cell_type": "code",
      "metadata": {
        "id": "zSkZoygSct8x",
        "colab_type": "code",
        "colab": {},
        "outputId": "fd542487-359e-4a87-8211-828fc164a618"
      },
      "source": [
        "data.columns"
      ],
      "execution_count": null,
      "outputs": [
        {
          "output_type": "execute_result",
          "data": {
            "text/plain": [
              "Index(['Sno', 'Data', 'StartupName', 'Industryvertical', 'SubVertical', 'City',\n",
              "       'InvestorSName', 'InvestmentType', 'AmountInUSD', 'yearmonth'],\n",
              "      dtype='object')"
            ]
          },
          "metadata": {
            "tags": []
          },
          "execution_count": 46
        }
      ]
    },
    {
      "cell_type": "code",
      "metadata": {
        "id": "nownOsSkct8z",
        "colab_type": "code",
        "colab": {}
      },
      "source": [
        "#lets analyse the Industry of the Startups\n",
        "#data_cleaning\n",
        "# i  would replace the nan values with Consumer technology. \n",
        "# the more defined data we have the bette our model.\n",
        "data['Industryvertical'] = data['Industryvertical'].replace('nan','Consumer Technology')"
      ],
      "execution_count": null,
      "outputs": []
    },
    {
      "cell_type": "code",
      "metadata": {
        "id": "pLu3iww8ct82",
        "colab_type": "code",
        "colab": {}
      },
      "source": [
        "industry = data['Industryvertical'].value_counts().head(10)"
      ],
      "execution_count": null,
      "outputs": []
    },
    {
      "cell_type": "code",
      "metadata": {
        "id": "5K_09vHZct86",
        "colab_type": "code",
        "colab": {},
        "outputId": "8109880d-4927-445a-ed6a-409b7b658198"
      },
      "source": [
        "print(industry)\n",
        "##if want to understand how replacing nan helped ,try to run this cell without replacing "
      ],
      "execution_count": null,
      "outputs": [
        {
          "output_type": "stream",
          "text": [
            "Consumer Internet      941\n",
            "Technology             478\n",
            "eCommerce              186\n",
            "Consumer Technology    172\n",
            "Healthcare              70\n",
            "Finance                 62\n",
            "ECommerce               61\n",
            "Logistics               32\n",
            "E-Commerce              29\n",
            "Education               24\n",
            "Name: Industryvertical, dtype: int64\n"
          ],
          "name": "stdout"
        }
      ]
    },
    {
      "cell_type": "code",
      "metadata": {
        "id": "OuZj4jMjct87",
        "colab_type": "code",
        "colab": {},
        "outputId": "7f5b52cc-aad0-4ae9-f65e-6eaf6b39ae92"
      },
      "source": [
        "#lets plot the data\n",
        "plt.rcParams['figure.figsize'] = (15,5)\n",
        "sns.barplot(industry.index,industry.values,palette = 'autumn')\n",
        "plt.xticks(rotation='vertical')\n",
        "plt.xlabel('Industry vertical of startups',fontsize=12)\n",
        "plt.ylabel('Number of funding made',fontsize=12)\n",
        "plt.title('Industry vertical of startups with number of funding',fontsize =16)\n",
        "plt.show()"
      ],
      "execution_count": null,
      "outputs": [
        {
          "output_type": "display_data",
          "data": {
            "image/png": "[encoded data removed]",
            "text/plain": [
              "<Figure size 1080x360 with 1 Axes>"
            ]
          },
          "metadata": {
            "tags": []
          }
        }
      ]
    },
    {
      "cell_type": "code",
      "metadata": {
        "id": "r7co1AFKct8-",
        "colab_type": "code",
        "colab": {},
        "outputId": "e818143e-42a3-4073-d959-fc1ecb769650"
      },
      "source": [
        "#lets analyse the sub vertical industries\n",
        "industry = data['SubVertical'].value_counts().head(20)\n",
        "print(industry)"
      ],
      "execution_count": null,
      "outputs": [
        {
          "output_type": "stream",
          "text": [
            "nan                                              936\n",
            "Online Lending Platform                           11\n",
            "Online Pharmacy                                   10\n",
            "Food Delivery Platform                             8\n",
            "Education                                          5\n",
            "Online Lending                                     5\n",
            "Online Learning Platform                           5\n",
            "Online lending platform                            5\n",
            "Online Education Platform                          5\n",
            "Online Food Delivery                               4\n",
            "Non-Banking Financial Company                      4\n",
            "Fitness Mobile App                                 3\n",
            "Online Furniture Store                             3\n",
            "Online Food Delivery Platform                      3\n",
            "Online Insurance Platform                          3\n",
            "Logistics                                          3\n",
            "Online platform for Higher Education Services      3\n",
            "Online Insurance Aggregator                        3\n",
            "B2B Marketplace                                    3\n",
            "ECommerce Marketplace                              3\n",
            "Name: SubVertical, dtype: int64\n"
          ],
          "name": "stdout"
        }
      ]
    },
    {
      "cell_type": "code",
      "metadata": {
        "id": "-M9HLjv5ct9A",
        "colab_type": "code",
        "colab": {},
        "outputId": "c0763c85-9e1b-478f-a725-316b3cc6bbf1"
      },
      "source": [
        "#so i could have done this step before using the above cell ,\n",
        "#observe the NAN value is present in the first index. \n",
        "industry= data['SubVertical'].value_counts()[1:].head(20)\n",
        "print(industry)"
      ],
      "execution_count": null,
      "outputs": [
        {
          "output_type": "stream",
          "text": [
            "Online Lending Platform                          11\n",
            "Online Pharmacy                                  10\n",
            "Food Delivery Platform                            8\n",
            "Education                                         5\n",
            "Online Lending                                    5\n",
            "Online Learning Platform                          5\n",
            "Online lending platform                           5\n",
            "Online Education Platform                         5\n",
            "Online Food Delivery                              4\n",
            "Non-Banking Financial Company                     4\n",
            "Fitness Mobile App                                3\n",
            "Online Furniture Store                            3\n",
            "Online Food Delivery Platform                     3\n",
            "Online Insurance Platform                         3\n",
            "Logistics                                         3\n",
            "Online platform for Higher Education Services     3\n",
            "Online Insurance Aggregator                       3\n",
            "B2B Marketplace                                   3\n",
            "ECommerce Marketplace                             3\n",
            "E-learning                                        3\n",
            "Name: SubVertical, dtype: int64\n"
          ],
          "name": "stdout"
        }
      ]
    },
    {
      "cell_type": "code",
      "metadata": {
        "id": "trjkFk4-ct9E",
        "colab_type": "code",
        "colab": {},
        "outputId": "03b75273-620f-4143-fcdd-51293ac328f9"
      },
      "source": [
        "#lets plot the data\n",
        "sns.lineplot(industry.index,industry.values,palette= 'summer')\n",
        "plt.xticks(rotation='vertical')\n",
        "plt.xlabel('Subvertical of startups',fontsize=14)\n",
        "plt.ylabel('Number of funding made',fontsize=12)\n",
        "plt.title('Subvertical of startups with number of funding',fontsize=19)\n",
        "plt.show()"
      ],
      "execution_count": null,
      "outputs": [
        {
          "output_type": "display_data",
          "data": {
            "image/png": "[encoded data removed]",
            "text/plain": [
              "<Figure size 1080x360 with 1 Axes>"
            ]
          },
          "metadata": {
            "tags": []
          }
        }
      ]
    },
    {
      "cell_type": "markdown",
      "metadata": {
        "id": "DTx8eTdGct9H",
        "colab_type": "text"
      },
      "source": [
        "## does location also play a role in determing th growth of a Startup ?"
      ]
    },
    {
      "cell_type": "code",
      "metadata": {
        "id": "Mu7lExiFct9H",
        "colab_type": "code",
        "colab": {}
      },
      "source": [
        ""
      ],
      "execution_count": null,
      "outputs": []
    }
  ]
}